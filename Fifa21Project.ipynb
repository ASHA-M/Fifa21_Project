{
 "cells": [
  {
   "cell_type": "code",
   "execution_count": 14,
   "id": "329fded1",
   "metadata": {},
   "outputs": [],
   "source": [
    "import pandas as pd\n",
    "import numpy as np\n",
    "import seaborn as sns\n",
    "import matplotlib.pyplot as plt\n",
    "from sklearn.model_selection import train_test_split\n",
    "from sklearn import linear_model\n",
    "from sklearn.metrics import mean_squared_error, r2_score\n",
    "from sklearn.preprocessing import MinMaxScaler\n",
    "from sklearn.preprocessing import StandardScaler \n",
    "from sklearn.preprocessing import OneHotEncoder\n",
    "pd.set_option('display.max_columns', None)\n",
    "plt.rcParams[\"figure.figsize\"] = (20,20)"
   ]
  },
  {
   "cell_type": "code",
   "execution_count": 15,
   "id": "a3179461",
   "metadata": {},
   "outputs": [],
   "source": [
    "file = pd.read_csv('fifa21_train.csv') #Read file"
   ]
  },
  {
   "cell_type": "code",
   "execution_count": 16,
   "id": "bdea5027",
   "metadata": {},
   "outputs": [],
   "source": [
    "#function to clean and process data\n",
    "def new_clean(file):\n",
    "    file=file.rename(columns={\n",
    "    'FK Accuracy':'Free kick Accuracy',\n",
    "    'GK Diving':'Goalkeeper Diving',\n",
    "    'GK Handling':'Goalkeeper Handling',\n",
    "    'GK Kicking':'Goalkeeper Kicking',\n",
    "    'GK Positioning':'Goalkeeper Position',\n",
    "    'GK Reflexes':'Goalkeeper Reflexes',\n",
    "    'W/F':'Weak foot',\n",
    "    'SM':'Skill Moves',\n",
    "    'A/W':'Attacking Workrate',\n",
    "    'D/W':'Defensive Workrate',\n",
    "    'IR':'International Reputation',\n",
    "    'PAC':'Pace total',\n",
    "    'SHO':'Shooting total',\n",
    "    'PAS':'Passing total',\n",
    "    'DRI':'Dribbling total',\n",
    "    'DEF':'Defending total',\n",
    "    'PHY':'Physicality total',\n",
    "    'LS':'LS: Left Striker',\n",
    "    'ST':'ST: Striker',\n",
    "    'RS':'RS: Right Striker',\n",
    "    'LW':'LW: Left Winger',\n",
    "    'LF':'LF: Left Forward',\n",
    "    'CF':'CF: Center Forward',\n",
    "    'RF':'RF: Right Forward',\n",
    "    'RW':'RW: Right Winger',\n",
    "    'LAM':'LAM: Left Attacking Midfielder',\n",
    "    'CAM':'CAM: Center Attacking Midfielder',\n",
    "    'RAM':'RAM: Right Attacking Midfielder',\n",
    "    'LM':'LM: Left Midfielder',\n",
    "    'LCM':'LCM: Left Center Midfielder',\n",
    "    'CM':'CM: Center Midfielder',\n",
    "    'RCM':'RCM: Right Center Midfielder',\n",
    "    'RM':'RM: Right Midfielder',\n",
    "    'LWB':'LWB: Left Wing Back',\n",
    "    'LDM':'LDM: Left Defensive Midfielder',\n",
    "    'CDM':'CDM: Center Defensive Midfielder',\n",
    "    'RDM':'RDM: Right Defensive Midfielder',\n",
    "    'RWB':'RWB: Right Wing Back',\n",
    "    'LB':'LB: Left Back',\n",
    "    'LCB':'LCB: Left Center Back',\n",
    "    'CB':'CB: Center Back',\n",
    "    'RCB':'RCB: Right Center Back',\n",
    "    'RB':'RB: Right Back',\n",
    "    'GK':'GK: Goalkeeper'\n",
    "    })\n",
    "    file = file[file['Club'].isna() == False]\n",
    "    file['Position'] = file['Position'].fillna(file['BP']) \n",
    "    file['Other position'] = file['Position'].apply(lambda x: len(x.split(' '))) \n",
    "    file.drop('Position', axis= 1, inplace = True)\n",
    "    file.drop('ID', axis= 1, inplace = True)\n",
    "    file.drop('Loan Date End',axis=1, inplace= True)\n",
    "    file = file[file['Joined'].isna() == False] \n",
    "    file['Composure'] = file['Composure'].fillna(file['Composure'].mean()) \n",
    "    file['Attacking Workrate'] = file['Attacking Workrate'].str.replace(\"High\", '3')\n",
    "    file['Attacking Workrate'] = file['Attacking Workrate'].str.replace(\"Medium\", '2')\n",
    "    file['Attacking Workrate'] = file['Attacking Workrate'].str.replace(\"Low\", '1')\n",
    "    file['Defensive Workrate'] = file['Defensive Workrate'].str.replace(\"High\", '3')\n",
    "    file['Defensive Workrate'] = file['Defensive Workrate'].str.replace(\"Medium\", '2')\n",
    "    file['Defensive Workrate'] = file['Defensive Workrate'].str.replace(\"Low\", '1')\n",
    "    file['Attacking Workrate'] = file['Attacking Workrate'].fillna(file['Attacking Workrate'].median()).astype('int')\n",
    "    file['Defensive Workrate'] = file['Defensive Workrate'].fillna(file['Defensive Workrate'].median()).astype('int')\n",
    "    file['Wage']=file['Wage'].str.replace(\"€\",'')\n",
    "    file['Wage']=file['Wage'].str.replace(\"K\",'000')\n",
    "    file['Wage']=file['Wage'].str.replace(\"M\",'000000')\n",
    "    file['Wage']=file['Wage'].str.replace(\".\",'')\n",
    "    file['Value']=file['Value'].str.replace(\"€\",'')\n",
    "    file['Value']=file['Value'].str.replace(\"K\",'000')\n",
    "    file['Value']=file['Value'].str.replace(\"M\",'000000')\n",
    "    file['Value']=file['Value'].str.replace(\".\",'')\n",
    "    file['Release Clause']=file['Release Clause'].str.replace(\"€\",'')\n",
    "    file['Release Clause']=file['Release Clause'].str.replace(\"K\",'000')\n",
    "    file['Release Clause']=file['Release Clause'].str.replace(\"M\",'000000')\n",
    "    file['Release Clause']=file['Release Clause'].str.replace(\".\",'')\n",
    "    coltoremove = file.columns[-30:-2]\n",
    "    for columns in coltoremove:\n",
    "        file.drop(columns, axis= 1, inplace= True)\n",
    "    def change_height(ht):\n",
    "        ftin = ht.split(\"'\")\n",
    "        feet = int(ftin[0])\n",
    "        inches = float(ftin[1].split('\"')[0])\n",
    "        return (12*feet) + inches\n",
    "    file['Height'] = file['Height'].apply(lambda x: change_height(x))\n",
    "    file['Weight'] = file['Weight'].apply(lambda x: x.replace('lbs', '')).astype('int')\n",
    "    file['Joined'] = pd.to_datetime(file['Joined']).dt.year\n",
    "    file['Wage'] = pd.to_numeric(file['Wage'])\n",
    "    file['Value'] = pd.to_numeric(file['Value'])\n",
    "    file['Release Clause'] = pd.to_numeric(file['Release Clause'])\n",
    "    file['Weak foot'] = file['Weak foot'].str.rstrip('★').astype('int')\n",
    "    file['Skill Moves'] = file['Skill Moves'].str.rstrip('★').astype('int')\n",
    "    file['International Reputation'] = file['International Reputation'].str.rstrip('★').astype('int')\n",
    "    file.drop('Contract', axis= 1, inplace= True)\n",
    "    file.drop('Name', axis= 1, inplace= True)\n",
    "    file.drop('Team & Contract', axis = 1, inplace= True)\n",
    "    file.drop('Club', axis = 1, inplace= True)\n",
    "    file.drop('Nationality', axis = 1, inplace= True)\n",
    "    categoricals = file.select_dtypes('object')\n",
    "    numericals = file._get_numeric_data().reset_index()\n",
    "    min_max_transformer = MinMaxScaler().fit(numericals.drop('OVA', axis=1)) # Fiting MinMaxScaler to data then storing as variable min_max_transformer\n",
    "    X_normalized = min_max_transformer.transform(numericals.drop('OVA', axis=1)) #Creating X_normalized variable using transform method on min_max_transformer for X\n",
    "    min_max_X = pd.DataFrame(X_normalized, columns= numericals.drop('OVA', axis=1).columns)\n",
    "    min_max_X['OVA'] = numericals['OVA']\n",
    "    encoder = OneHotEncoder(drop='first').fit(categoricals) \n",
    "    encoded = encoder.transform(categoricals).toarray() \n",
    "    encoded_columns = OneHotEncoder(drop='first').fit(categoricals).get_feature_names(input_features=categoricals.columns) # this allows us to get the columns names for our encoded array\n",
    "    onehot_encoded_X = pd.DataFrame(encoded, columns = encoded_columns) \n",
    "    onehot_encoded_X.reset_index()\n",
    "    file = pd.concat([onehot_encoded_X, min_max_X], axis=1)\n",
    "    file.drop('index', axis= 1, inplace=True)\n",
    "    file.drop('Crossing', axis= 1, inplace= True)\n",
    "    file.drop('Finishing', axis= 1, inplace= True)\n",
    "    file.drop('Heading Accuracy', axis= 1, inplace= True)\n",
    "    file.drop('Short Passing', axis= 1, inplace= True)\n",
    "    file.drop('Volleys', axis= 1, inplace= True)\n",
    "    file.drop('Dribbling', axis= 1, inplace= True)\n",
    "    file.drop('Curve', axis= 1, inplace= True)\n",
    "    file.drop('Free kick Accuracy', axis= 1, inplace= True)\n",
    "    file.drop('Long Passing', axis= 1, inplace= True)\n",
    "    file.drop('Ball Control', axis= 1, inplace= True)\n",
    "    file.drop('Acceleration', axis= 1, inplace= True)\n",
    "    file.drop('Sprint Speed', axis= 1, inplace= True)\n",
    "    file.drop('Agility', axis= 1, inplace= True)\n",
    "    file.drop('Reactions', axis= 1, inplace= True)\n",
    "    file.drop('Balance', axis= 1, inplace= True)\n",
    "    file.drop('Shot Power', axis= 1, inplace= True)\n",
    "    file.drop('Jumping', axis= 1, inplace= True)\n",
    "    file.drop('Stamina', axis= 1, inplace= True)\n",
    "    file.drop('Strength', axis= 1, inplace= True)\n",
    "    file.drop('Long Shots', axis= 1, inplace= True)\n",
    "    file.drop('Aggression', axis= 1, inplace= True)\n",
    "    file.drop('Interceptions', axis= 1, inplace= True)\n",
    "    file.drop('Positioning', axis= 1, inplace= True)\n",
    "    file.drop('Vision', axis= 1, inplace= True)\n",
    "    file.drop('Penalties', axis= 1, inplace= True)\n",
    "    file.drop('Composure', axis= 1, inplace= True)\n",
    "    file.drop('Marking', axis= 1, inplace= True)\n",
    "    file.drop('Standing Tackle', axis= 1, inplace= True)\n",
    "    file.drop('Sliding Tackle', axis= 1, inplace= True)\n",
    "    file.drop('Goalkeeper Diving', axis= 1, inplace= True)\n",
    "    file.drop('Goalkeeper Handling', axis= 1, inplace= True)\n",
    "    file.drop('Goalkeeper Kicking', axis= 1, inplace= True)\n",
    "    file.drop('Goalkeeper Position', axis= 1, inplace= True)\n",
    "    file.drop('Goalkeeper Reflexes', axis= 1, inplace= True)\n",
    "    return file"
   ]
  },
  {
   "cell_type": "code",
   "execution_count": 17,
   "id": "7fe3be3d",
   "metadata": {},
   "outputs": [
    {
     "name": "stderr",
     "output_type": "stream",
     "text": [
      "C:\\Users\\A.M\\AppData\\Local\\Temp\\ipykernel_13056\\3994538683.py:68: FutureWarning: The default value of regex will change from True to False in a future version. In addition, single character regular expressions will *not* be treated as literal strings when regex=True.\n",
      "  file['Wage']=file['Wage'].str.replace(\".\",'')\n",
      "C:\\Users\\A.M\\AppData\\Local\\Temp\\ipykernel_13056\\3994538683.py:72: FutureWarning: The default value of regex will change from True to False in a future version. In addition, single character regular expressions will *not* be treated as literal strings when regex=True.\n",
      "  file['Value']=file['Value'].str.replace(\".\",'')\n",
      "C:\\Users\\A.M\\AppData\\Local\\Temp\\ipykernel_13056\\3994538683.py:76: FutureWarning: The default value of regex will change from True to False in a future version. In addition, single character regular expressions will *not* be treated as literal strings when regex=True.\n",
      "  file['Release Clause']=file['Release Clause'].str.replace(\".\",'')\n",
      "C:\\Users\\A.M\\anaconda3\\lib\\site-packages\\sklearn\\utils\\deprecation.py:87: FutureWarning: Function get_feature_names is deprecated; get_feature_names is deprecated in 1.0 and will be removed in 1.2. Please use get_feature_names_out instead.\n",
      "  warnings.warn(msg, category=FutureWarning)\n"
     ]
    }
   ],
   "source": [
    "train = new_clean(file) #Renaming cleaned file to train and using it all for training the model below"
   ]
  },
  {
   "cell_type": "code",
   "execution_count": 18,
   "id": "5cfa97a0",
   "metadata": {},
   "outputs": [
    {
     "name": "stdout",
     "output_type": "stream",
     "text": [
      "43.218017472702726\n",
      "[ 5.18769593  1.01200416  0.30055571 -0.46209231 -5.51208617  1.63587744\n",
      "  0.17066767  0.37042884  1.02437704  1.75153904 -0.04802005 -0.05922485\n",
      "  0.97472652  0.75456158  0.0686882   1.00103325  0.6438383   1.04017331\n",
      " -3.5977272  -1.69723229  7.83487462  6.90585478 12.66862968 11.47669954\n",
      " -8.35125431  0.30720433 -3.88016237 -3.72262115 -1.05943713  6.70223673\n",
      "  0.71974702  9.49891762  0.12324286  3.09373493 -0.51646298 -0.35446669\n",
      "  1.97493661 -1.27509291  1.54875304  6.87909633 18.76816518  3.28585147\n",
      "  7.30320469 -1.22077597]\n",
      "r2_score is  0.8529664191767368\n",
      "MSE is  6.005418049513938\n"
     ]
    }
   ],
   "source": [
    "#X-Y split\n",
    "y = train['OVA'] #Target\n",
    "X = train.drop('OVA', axis= 1) #Features\n",
    "\n",
    "lm = linear_model.LinearRegression() #linear regression model\n",
    "lm.fit(X,y) \n",
    "print(lm.intercept_) \n",
    "print(lm.coef_) \n",
    "print( 'r2_score is ', r2_score(lm.predict(X),y))\n",
    "print('MSE is ', mean_squared_error(lm.predict(X),y))"
   ]
  },
  {
   "cell_type": "markdown",
   "id": "465f770d",
   "metadata": {},
   "source": [
    "# Validating model"
   ]
  },
  {
   "cell_type": "code",
   "execution_count": 19,
   "id": "527a09a1",
   "metadata": {},
   "outputs": [
    {
     "name": "stderr",
     "output_type": "stream",
     "text": [
      "C:\\Users\\A.M\\AppData\\Local\\Temp\\ipykernel_13056\\3994538683.py:68: FutureWarning: The default value of regex will change from True to False in a future version. In addition, single character regular expressions will *not* be treated as literal strings when regex=True.\n",
      "  file['Wage']=file['Wage'].str.replace(\".\",'')\n",
      "C:\\Users\\A.M\\AppData\\Local\\Temp\\ipykernel_13056\\3994538683.py:72: FutureWarning: The default value of regex will change from True to False in a future version. In addition, single character regular expressions will *not* be treated as literal strings when regex=True.\n",
      "  file['Value']=file['Value'].str.replace(\".\",'')\n",
      "C:\\Users\\A.M\\AppData\\Local\\Temp\\ipykernel_13056\\3994538683.py:76: FutureWarning: The default value of regex will change from True to False in a future version. In addition, single character regular expressions will *not* be treated as literal strings when regex=True.\n",
      "  file['Release Clause']=file['Release Clause'].str.replace(\".\",'')\n",
      "C:\\Users\\A.M\\anaconda3\\lib\\site-packages\\sklearn\\utils\\deprecation.py:87: FutureWarning: Function get_feature_names is deprecated; get_feature_names is deprecated in 1.0 and will be removed in 1.2. Please use get_feature_names_out instead.\n",
      "  warnings.warn(msg, category=FutureWarning)\n"
     ]
    }
   ],
   "source": [
    "test = pd.read_csv('fifa21_validate.csv') #file for validation\n",
    "clean_test = new_clean(test) #Cleaned and processed test"
   ]
  },
  {
   "cell_type": "markdown",
   "id": "32e7a67d",
   "metadata": {},
   "source": [
    "## Metrics"
   ]
  },
  {
   "cell_type": "code",
   "execution_count": 20,
   "id": "e04c6c8c",
   "metadata": {},
   "outputs": [
    {
     "name": "stdout",
     "output_type": "stream",
     "text": [
      "0.8627871196401479\n",
      "6.7294640330824125\n",
      "2.594121052125828\n"
     ]
    }
   ],
   "source": [
    "print(r2_score(lm.predict(clean_test.drop('OVA', axis=1)), clean_test['OVA'])) #R2\n",
    "print(mean_squared_error(lm.predict(clean_test.drop('OVA', axis=1)), clean_test['OVA'])) #MSE\n",
    "print(np.sqrt(mean_squared_error(lm.predict(clean_test.drop('OVA', axis=1)), clean_test['OVA']))) #RMSE"
   ]
  }
 ],
 "metadata": {
  "kernelspec": {
   "display_name": "Python 3 (ipykernel)",
   "language": "python",
   "name": "python3"
  },
  "language_info": {
   "codemirror_mode": {
    "name": "ipython",
    "version": 3
   },
   "file_extension": ".py",
   "mimetype": "text/x-python",
   "name": "python",
   "nbconvert_exporter": "python",
   "pygments_lexer": "ipython3",
   "version": "3.8.13"
  }
 },
 "nbformat": 4,
 "nbformat_minor": 5
}
